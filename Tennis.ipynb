{
 "cells": [
  {
   "cell_type": "markdown",
   "metadata": {},
   "source": [
    "# Collaboration and Competition\n",
    "\n",
    "---\n",
    "\n",
    "In this notebook, you will learn how to use the Unity ML-Agents environment for the third project of the [Deep Reinforcement Learning Nanodegree](https://www.udacity.com/course/deep-reinforcement-learning-nanodegree--nd893) program.\n",
    "\n",
    "### 1. Start the Environment\n",
    "\n",
    "We begin by importing the necessary packages.  If the code cell below returns an error, please revisit the project instructions to double-check that you have installed [Unity ML-Agents](https://github.com/Unity-Technologies/ml-agents/blob/master/docs/Installation.md) and [NumPy](http://www.numpy.org/)."
   ]
  },
  {
   "cell_type": "code",
   "execution_count": 1,
   "metadata": {},
   "outputs": [],
   "source": [
    "from collections import deque\n",
    "from unityagents import UnityEnvironment\n",
    "import numpy as np\n"
   ]
  },
  {
   "cell_type": "markdown",
   "metadata": {},
   "source": [
    "Next, we will start the environment!  **_Before running the code cell below_**, change the `file_name` parameter to match the location of the Unity environment that you downloaded.\n",
    "\n",
    "- **Mac**: `\"path/to/Tennis.app\"`\n",
    "- **Windows** (x86): `\"path/to/Tennis_Windows_x86/Tennis.exe\"`\n",
    "- **Windows** (x86_64): `\"path/to/Tennis_Windows_x86_64/Tennis.exe\"`\n",
    "- **Linux** (x86): `\"path/to/Tennis_Linux/Tennis.x86\"`\n",
    "- **Linux** (x86_64): `\"path/to/Tennis_Linux/Tennis.x86_64\"`\n",
    "- **Linux** (x86, headless): `\"path/to/Tennis_Linux_NoVis/Tennis.x86\"`\n",
    "- **Linux** (x86_64, headless): `\"path/to/Tennis_Linux_NoVis/Tennis.x86_64\"`\n",
    "\n",
    "For instance, if you are using a Mac, then you downloaded `Tennis.app`.  If this file is in the same folder as the notebook, then the line below should appear as follows:\n",
    "```\n",
    "env = UnityEnvironment(file_name=\"Tennis.app\")\n",
    "```"
   ]
  },
  {
   "cell_type": "code",
   "execution_count": 2,
   "metadata": {},
   "outputs": [
    {
     "name": "stderr",
     "output_type": "stream",
     "text": [
      "INFO:unityagents:\n",
      "'Academy' started successfully!\n",
      "Unity Academy name: Academy\n",
      "        Number of Brains: 1\n",
      "        Number of External Brains : 1\n",
      "        Lesson number : 0\n",
      "        Reset Parameters :\n",
      "\t\t\n",
      "Unity brain name: TennisBrain\n",
      "        Number of Visual Observations (per agent): 0\n",
      "        Vector Observation space type: continuous\n",
      "        Vector Observation space size (per agent): 8\n",
      "        Number of stacked Vector Observation: 3\n",
      "        Vector Action space type: continuous\n",
      "        Vector Action space size (per agent): 2\n",
      "        Vector Action descriptions: , \n"
     ]
    }
   ],
   "source": [
    "env = UnityEnvironment(file_name=\"Tennis_Windows_x86_64\\Tennis.exe\")"
   ]
  },
  {
   "cell_type": "markdown",
   "metadata": {},
   "source": [
    "Environments contain **_brains_** which are responsible for deciding the actions of their associated agents. Here we check for the first brain available, and set it as the default brain we will be controlling from Python."
   ]
  },
  {
   "cell_type": "code",
   "execution_count": 3,
   "metadata": {},
   "outputs": [],
   "source": [
    "# get the default brain\n",
    "brain_name = env.brain_names[0]\n",
    "brain = env.brains[brain_name]"
   ]
  },
  {
   "cell_type": "markdown",
   "metadata": {},
   "source": [
    "### 2. Examine the State and Action Spaces\n",
    "\n",
    "In this environment, two agents control rackets to bounce a ball over a net. If an agent hits the ball over the net, it receives a reward of +0.1.  If an agent lets a ball hit the ground or hits the ball out of bounds, it receives a reward of -0.01.  Thus, the goal of each agent is to keep the ball in play.\n",
    "\n",
    "The observation space consists of 8 variables corresponding to the position and velocity of the ball and racket. Two continuous actions are available, corresponding to movement toward (or away from) the net, and jumping. \n",
    "\n",
    "Run the code cell below to print some information about the environment."
   ]
  },
  {
   "cell_type": "code",
   "execution_count": 4,
   "metadata": {},
   "outputs": [
    {
     "name": "stdout",
     "output_type": "stream",
     "text": [
      "Number of agents: 2\n",
      "Size of each action: 2\n",
      "There are 2 agents. Each observes a state with length: 24\n",
      "The state for the first agent looks like: [ 0.          0.          0.          0.          0.          0.\n",
      "  0.          0.          0.          0.          0.          0.\n",
      "  0.          0.          0.          0.         -6.65278625 -1.5\n",
      " -0.          0.          6.83172083  6.         -0.          0.        ]\n"
     ]
    }
   ],
   "source": [
    "# reset the environment\n",
    "env_info = env.reset(train_mode=True)[brain_name]\n",
    "\n",
    "# number of agents \n",
    "num_agents = len(env_info.agents)\n",
    "print('Number of agents:', num_agents)\n",
    "\n",
    "# size of each action\n",
    "action_size = brain.vector_action_space_size\n",
    "print('Size of each action:', action_size)\n",
    "\n",
    "# examine the state space \n",
    "states = env_info.vector_observations\n",
    "state_size = states.shape[1]\n",
    "print('There are {} agents. Each observes a state with length: {}'.format(states.shape[0], state_size))\n",
    "print('The state for the first agent looks like:', states[0])"
   ]
  },
  {
   "cell_type": "markdown",
   "metadata": {},
   "source": [
    "### 3. Take Random Actions in the Environment\n",
    "\n",
    "In the next code cell, you will learn how to use the Python API to control the agents and receive feedback from the environment.\n",
    "\n",
    "Once this cell is executed, you will watch the agents' performance, if they select actions at random with each time step.  A window should pop up that allows you to observe the agents.\n",
    "\n",
    "Of course, as part of the project, you'll have to change the code so that the agents are able to use their experiences to gradually choose better actions when interacting with the environment!"
   ]
  },
  {
   "cell_type": "code",
   "execution_count": 5,
   "metadata": {},
   "outputs": [
    {
     "name": "stdout",
     "output_type": "stream",
     "text": [
      "[[-0.03113842 -0.6375122 ]\n",
      " [ 1.          0.27380338]]\n",
      "[[ 0.          0.          0.          0.          0.          0.\n",
      "   0.          0.         -7.38993645 -1.5        -0.          0.\n",
      "   6.83172083  5.99607611 -0.          0.         -7.48335123 -1.55886006\n",
      "  -0.93415248 -0.98100001  6.83172083  5.91759634 -0.93415248 -0.98100001]\n",
      " [ 0.          0.          0.          0.          0.          0.\n",
      "   0.          0.         -6.70024681 -1.5         0.          0.\n",
      "  -6.83172083  5.99607611  0.          0.         -3.70024753 -1.55886006\n",
      "  30.         -0.98100001 -6.83172083  5.91759634 30.         -0.98100001]]\n",
      "[0.0, 0.0]\n",
      "[False, False]\n",
      "Score (max over agents) from episode 1: 0.0\n",
      "[[ 0.7513432  -0.44186783]\n",
      " [-0.09843024 -1.        ]]\n",
      "[[ 0.          0.          0.          0.          0.          0.\n",
      "   0.          0.         -6.69487906 -1.5        -0.          0.\n",
      "   6.83172083  5.89012814 -0.          0.         -4.44084835 -1.55886006\n",
      "  22.54029655 -0.98100001  6.83172083  5.69392824 22.54029655 -0.98100001]\n",
      " [ 0.          0.          0.          0.          0.          0.\n",
      "   0.          0.         -6.99633169 -1.5         0.          0.\n",
      "  -6.83172083  5.89012814  0.          0.         -7.29162264 -1.55886006\n",
      "  -2.95290709 -0.98100001 -6.83172083  5.69392824 -2.95290709 -0.98100001]]\n",
      "[0.0, 0.0]\n",
      "[False, False]\n",
      "Score (max over agents) from episode 2: 0.0\n",
      "[[ 0.32931003 -0.51649359]\n",
      " [-1.         -0.53004619]]\n",
      "[[  0.           0.           0.           0.           0.\n",
      "    0.           0.           0.          -7.43639946  -1.5\n",
      "   -0.           0.           6.83172083   5.6429162   -0.\n",
      "    0.          -6.44846916  -1.55886006   9.87930107  -0.98100001\n",
      "    6.83172083   5.32899618   9.87930107  -0.98100001]\n",
      " [  0.           0.           0.           0.           0.\n",
      "    0.           0.           0.          -7.73019552  -1.5\n",
      "    0.           0.          -6.83172083   5.6429162    0.\n",
      "    0.         -10.73019791  -1.55886006 -30.          -0.98100001\n",
      "   -6.83172083   5.32899618 -30.          -0.98100001]]\n",
      "[0.0, 0.0]\n",
      "[False, False]\n",
      "Score (max over agents) from episode 3: 0.0\n",
      "[[ 0.78599758  1.        ]\n",
      " [ 0.26882206 -0.37493322]]\n",
      "[[ 0.          0.          0.          0.          0.          0.\n",
      "   0.          0.         -6.24261761 -1.5        -0.          0.\n",
      "   6.83172083  5.25444031 -0.          0.         -3.88462472 -0.98316395\n",
      "  23.57992744  6.21520042  6.83172083  4.82280064 23.57992744  6.21520042]\n",
      " [ 0.          0.          0.          0.          0.          0.\n",
      "   0.          0.         -6.72329426 -1.5         0.          0.\n",
      "  -6.83172083  5.25444031  0.          0.         -5.91682911 -1.55886006\n",
      "   8.06466103 -0.98100001 -6.83172083  4.82280064  8.06466103 -0.98100001]]\n",
      "[0.0, 0.0]\n",
      "[False, False]\n",
      "Score (max over agents) from episode 4: 0.0\n",
      "[[-0.66661154 -0.45163045]\n",
      " [-1.          0.20317883]]\n",
      "[[  0.           0.           0.           0.           0.\n",
      "    0.           0.           0.          -6.55063343  -1.5\n",
      "   -0.           0.           6.83172083   4.72470045  -0.\n",
      "    0.          -8.55046844  -1.55886006 -19.99834633  -0.98100001\n",
      "    6.83172083   4.17534065 -19.99834633  -0.98100001]\n",
      " [  0.           0.           0.           0.           0.\n",
      "    0.           0.           0.          -6.46228027  -1.5\n",
      "    0.           0.          -6.83172083   4.72470045   0.\n",
      "    0.          -9.46228123  -1.55886006 -30.          -0.98100001\n",
      "   -6.83172083   4.17534065 -30.          -0.98100001]]\n",
      "[0.0, 0.0]\n",
      "[False, False]\n",
      "Score (max over agents) from episode 5: 0.0\n"
     ]
    }
   ],
   "source": [
    "for i in range(1, 6):                                      # play game for 5 episodes\n",
    "    env_info = env.reset(train_mode=False)[brain_name]     # reset the environment    \n",
    "    states = env_info.vector_observations                  # get the current state (for each agent)\n",
    "    scores = np.zeros(num_agents)                          # initialize the score (for each agent)\n",
    "    while True:\n",
    "        actions = np.random.randn(num_agents, action_size) # select an action (for each agent)\n",
    "        actions = np.clip(actions, -1, 1)                  # all actions between -1 and 1\n",
    "        env_info = env.step(actions)[brain_name]           # send all actions to tne environment\n",
    "        next_states = env_info.vector_observations         # get next state (for each agent)\n",
    "        rewards = env_info.rewards                         # get reward (for each agent)\n",
    "        dones = env_info.local_done                        # see if episode finished\n",
    "        scores += env_info.rewards                         # update the score (for each agent)\n",
    "        states = next_states                               # roll over states to next time step\n",
    "        if np.any(dones):                                  # exit loop if episode finished\n",
    "            break\n",
    "    print('Score (max over agents) from episode {}: {}'.format(i, np.max(scores)))"
   ]
  },
  {
   "cell_type": "markdown",
   "metadata": {},
   "source": [
    "When finished, you can close the environment."
   ]
  },
  {
   "cell_type": "code",
   "execution_count": 6,
   "metadata": {},
   "outputs": [],
   "source": [
    "env.close()"
   ]
  },
  {
   "cell_type": "markdown",
   "metadata": {},
   "source": [
    "### 4. It's Your Turn!\n",
    "\n",
    "Now it's your turn to train your own agent to solve the environment!  When training the environment, set `train_mode=True`, so that the line for resetting the environment looks like the following:\n",
    "```python\n",
    "env_info = env.reset(train_mode=True)[brain_name]\n",
    "```"
   ]
  },
  {
   "cell_type": "code",
   "execution_count": 1,
   "metadata": {},
   "outputs": [],
   "source": [
    "from collections import deque\n",
    "from unityagents import UnityEnvironment\n",
    "import numpy as np\n",
    "import torch\n",
    "from matplotlib import pyplot as plt\n",
    "from maddpg import MADDPG\n",
    "from global_variables import LR_ACTOR, LR_CRITIC, GAMMA, TAU, SEED, BUFFER_SIZE, EPSILON, EPS_DECAY, EPS_MIN, WEIGHT_DECAY\n",
    "\n",
    "agent = MADDPG(24, 2, LR_ACTOR, LR_CRITIC, GAMMA, TAU, BUFFER_SIZE, SEED, WEIGHT_DECAY, EPSILON, EPS_DECAY, EPS_MIN)\n",
    "device = torch.device(\"cuda\" if torch.cuda.is_available() else \"cpu\")\n"
   ]
  },
  {
   "cell_type": "code",
   "execution_count": 2,
   "metadata": {},
   "outputs": [
    {
     "name": "stderr",
     "output_type": "stream",
     "text": [
      "INFO:unityagents:\n",
      "'Academy' started successfully!\n",
      "Unity Academy name: Academy\n",
      "        Number of Brains: 1\n",
      "        Number of External Brains : 1\n",
      "        Lesson number : 0\n",
      "        Reset Parameters :\n",
      "\t\t\n",
      "Unity brain name: TennisBrain\n",
      "        Number of Visual Observations (per agent): 0\n",
      "        Vector Observation space type: continuous\n",
      "        Vector Observation space size (per agent): 8\n",
      "        Number of stacked Vector Observation: 3\n",
      "        Vector Action space type: continuous\n",
      "        Vector Action space size (per agent): 2\n",
      "        Vector Action descriptions: , \n",
      "d:\\Programowanie\\Anaconda\\envs\\drl2\\lib\\site-packages\\torch\\nn\\functional.py:1949: UserWarning: nn.functional.tanh is deprecated. Use torch.tanh instead.\n",
      "  warnings.warn(\"nn.functional.tanh is deprecated. Use torch.tanh instead.\")\n"
     ]
    },
    {
     "name": "stdout",
     "output_type": "stream",
     "text": [
      "Episode 0\tAverage Score: 0.100\n",
      "Episode 100\tAverage Score: 0.000\n",
      "Episode 200\tAverage Score: 0.001\n",
      "Episode 300\tAverage Score: 0.002\n",
      "Episode 400\tAverage Score: 0.007\n",
      "Episode 500\tAverage Score: 0.006\n",
      "Episode 600\tAverage Score: 0.004\n",
      "Episode 700\tAverage Score: 0.003\n",
      "Episode 800\tAverage Score: 0.004\n",
      "Episode 900\tAverage Score: 0.001\n",
      "Episode 1000\tAverage Score: 0.002\n",
      "Episode 1100\tAverage Score: 0.010\n",
      "Episode 1200\tAverage Score: 0.013\n",
      "Episode 1300\tAverage Score: 0.015\n",
      "Episode 1400\tAverage Score: 0.013\n",
      "Episode 1500\tAverage Score: 0.021\n",
      "Episode 1600\tAverage Score: 0.017\n",
      "Episode 1700\tAverage Score: 0.029\n",
      "Episode 1800\tAverage Score: 0.036\n",
      "Episode 1900\tAverage Score: 0.039\n",
      "Episode 2000\tAverage Score: 0.031\n",
      "Episode 2100\tAverage Score: 0.038\n",
      "Episode 2200\tAverage Score: 0.025\n",
      "Episode 2300\tAverage Score: 0.051\n",
      "Episode 2400\tAverage Score: 0.032\n",
      "Episode 2500\tAverage Score: 0.032\n",
      "Episode 2600\tAverage Score: 0.025\n",
      "Episode 2700\tAverage Score: 0.038\n",
      "Episode 2800\tAverage Score: 0.057\n",
      "Episode 2900\tAverage Score: 0.045\n",
      "Episode 3000\tAverage Score: 0.066\n",
      "Episode 3100\tAverage Score: 0.060\n",
      "Episode 3200\tAverage Score: 0.095\n",
      "Episode 3300\tAverage Score: 0.093\n",
      "Episode 3400\tAverage Score: 0.089\n",
      "Episode 3500\tAverage Score: 0.082\n",
      "Episode 3600\tAverage Score: 0.087\n",
      "Episode 3700\tAverage Score: 0.081\n",
      "Episode 3800\tAverage Score: 0.099\n",
      "Episode 3900\tAverage Score: 0.097\n",
      "Episode 4000\tAverage Score: 0.090\n",
      "Episode 4100\tAverage Score: 0.109\n",
      "Episode 4200\tAverage Score: 0.109\n",
      "Episode 4300\tAverage Score: 0.147\n",
      "Episode 4400\tAverage Score: 0.295\n",
      "Episode 4500\tAverage Score: 0.478\n",
      "Episode 4503\tAverage Score: 0.501\n",
      "Environment solved in 4403 episodes!\tAverage Score: 0.50070\n",
      "Episode 4600\tAverage Score: 0.424\n",
      "Episode 4700\tAverage Score: 0.650\n",
      "Episode 4800\tAverage Score: 0.822\n",
      "Episode 4900\tAverage Score: 0.880\n",
      "Episode 5000\tAverage Score: 0.959\n",
      "Episode 5100\tAverage Score: 1.159\n",
      "Episode 5200\tAverage Score: 1.331\n",
      "Episode 5300\tAverage Score: 1.215\n",
      "Episode 5353\tAverage Score: 1.608Weights saved with avg score: 1.6077000239677728\n",
      "Episode 5354\tAverage Score: 1.609Weights saved with avg score: 1.6087000239826739\n",
      "Episode 5357\tAverage Score: 1.616Weights saved with avg score: 1.615700024086982\n",
      "Episode 5361\tAverage Score: 1.617Weights saved with avg score: 1.6167000241018832\n",
      "Episode 5362\tAverage Score: 1.619Weights saved with avg score: 1.6188000241294502\n",
      "Episode 5363\tAverage Score: 1.642Weights saved with avg score: 1.641800024472177\n",
      "Episode 5365\tAverage Score: 1.659Weights saved with avg score: 1.6588000247254968\n",
      "Episode 5372\tAverage Score: 1.664Weights saved with avg score: 1.6638000248000027\n",
      "Episode 5373\tAverage Score: 1.674Weights saved with avg score: 1.6738000249490141\n",
      "Episode 5379\tAverage Score: 1.691Weights saved with avg score: 1.6908000252023339\n",
      "Episode 5385\tAverage Score: 1.695Weights saved with avg score: 1.6948000252619386\n",
      "Episode 5386\tAverage Score: 1.717Weights saved with avg score: 1.7168000255897642\n",
      "Episode 5387\tAverage Score: 1.729Weights saved with avg score: 1.728800025768578\n",
      "Episode 5388\tAverage Score: 1.737Weights saved with avg score: 1.7368000258877874\n",
      "Episode 5389\tAverage Score: 1.750Weights saved with avg score: 1.7498000260815025\n",
      "Episode 5400\tAverage Score: 1.681\n",
      "Episode 5458\tAverage Score: 1.761Weights saved with avg score: 1.7608000262454153\n",
      "Episode 5497\tAverage Score: 1.763Weights saved with avg score: 1.7627000262960792\n",
      "Episode 5499\tAverage Score: 1.779Weights saved with avg score: 1.7787000265344977\n"
     ]
    },
    {
     "data": {
      "image/png": "[encoded data removed]",
      "text/plain": [
       "<Figure size 640x480 with 1 Axes>"
      ]
     },
     "metadata": {},
     "output_type": "display_data"
    }
   ],
   "source": [
    "env = UnityEnvironment(file_name='Tennis_Windows_x86_64\\Tennis.exe')\n",
    "brain_name = env.brain_names[0]\n",
    "brain = env.brains[brain_name]\n",
    "\n",
    "env_info = env.reset(train_mode=True)[brain_name]\n",
    "num_agents = len(env_info.agents)\n",
    "\n",
    "\n",
    "def maddpg(n_episodes=5500):\n",
    "    scores = []\n",
    "    scores_window = deque(maxlen=100)\n",
    "    not_solved = True\n",
    "\n",
    "    max_average_score = 1.6\n",
    "\n",
    "    for i_episode in range(n_episodes):\n",
    "        env_info = env.reset(train_mode=True)[brain_name]\n",
    "        states = env_info.vector_observations\n",
    "\n",
    "        score = np.zeros(num_agents)\n",
    "        while(True):\n",
    "            actions = agent.act(torch.from_numpy(states).float().to(device))\n",
    "            env_info = env.step(actions)[brain_name]\n",
    "            rewards = env_info.rewards\n",
    "            dones = env_info.local_done\n",
    "            next_states = env_info.vector_observations\n",
    "            agent.step(states, actions, rewards, next_states, dones, num_agents)\n",
    "            score += rewards\n",
    "            states = next_states\n",
    "            if np.any(dones):\n",
    "                break\n",
    "\n",
    "        scores_window.append(np.max(score))\n",
    "        scores.append(np.max(score))\n",
    "\n",
    "        print('\\rEpisode {}\\tAverage Score: {:.3f}'.format(i_episode, np.mean(scores_window)), end=\"\")\n",
    "        if i_episode % 100 == 0:\n",
    "            print('\\rEpisode {}\\tAverage Score: {:.3f}'.format(i_episode, np.mean(scores_window)))\n",
    "\n",
    "        if np.mean(scores_window) > max_average_score:\n",
    "            max_average_score = np.mean(scores_window)\n",
    "            for idx, a in enumerate(agent.agents):\n",
    "                torch.save(a.actor.state_dict(), f'checkpoint_actor{idx}_model.pth')\n",
    "                torch.save(a.critic.state_dict(), f'checkpoint_critic{idx}_model.pth')\n",
    "                torch.save(a.target_actor.state_dict(), f'checkpoint_actor_target{idx}_model.pth')\n",
    "                torch.save(a.target_critic.state_dict(), f'checkpoint_critic_target{idx}_model.pth')\n",
    "            print(f'Weights saved with avg score: {max_average_score}')\n",
    "\n",
    "        if np.mean(scores_window)>.5 and not_solved:\n",
    "            not_solved = False\n",
    "            print('\\nEnvironment solved in {:d} episodes!\\tAverage Score: {:.5f}'.format(i_episode-100, np.mean(scores_window)))\n",
    "            for idx, a in enumerate(agent.agents):\n",
    "                torch.save(a.actor.state_dict(), f'final_actor{idx}_model.pth')\n",
    "                torch.save(a.critic.state_dict(), f'final_critic{idx}_model.pth')\n",
    "                torch.save(a.target_actor.state_dict(), f'final_actor_target{idx}_model.pth')\n",
    "                torch.save(a.target_critic.state_dict(), f'final_critic_target{idx}_model.pth')\n",
    "\n",
    "    return scores\n",
    "\n",
    "scores = maddpg()\n",
    "\n",
    "fig = plt.figure()\n",
    "ax = fig.add_subplot(111)\n",
    "plt.plot(np.arange(len(scores)), scores)\n",
    "plt.ylabel('Score')\n",
    "plt.xlabel('Episode #')\n",
    "plt.show()\n",
    "\n",
    "env.close()"
   ]
  },
  {
   "attachments": {},
   "cell_type": "markdown",
   "metadata": {},
   "source": [
    "# Watch trained agent"
   ]
  },
  {
   "cell_type": "code",
   "execution_count": 1,
   "metadata": {},
   "outputs": [
    {
     "name": "stderr",
     "output_type": "stream",
     "text": [
      "INFO:unityagents:\n",
      "'Academy' started successfully!\n",
      "Unity Academy name: Academy\n",
      "        Number of Brains: 1\n",
      "        Number of External Brains : 1\n",
      "        Lesson number : 0\n",
      "        Reset Parameters :\n",
      "\t\t\n",
      "Unity brain name: TennisBrain\n",
      "        Number of Visual Observations (per agent): 0\n",
      "        Vector Observation space type: continuous\n",
      "        Vector Observation space size (per agent): 8\n",
      "        Number of stacked Vector Observation: 3\n",
      "        Vector Action space type: continuous\n",
      "        Vector Action space size (per agent): 2\n",
      "        Vector Action descriptions: , \n",
      "d:\\Programowanie\\Anaconda\\envs\\drl2\\lib\\site-packages\\torch\\nn\\functional.py:1949: UserWarning: nn.functional.tanh is deprecated. Use torch.tanh instead.\n",
      "  warnings.warn(\"nn.functional.tanh is deprecated. Use torch.tanh instead.\")\n"
     ]
    },
    {
     "name": "stdout",
     "output_type": "stream",
     "text": [
      "Score (max over agents) from episode 1: 0.10000000149011612\n",
      "Score (max over agents) from episode 2: 2.600000038743019\n",
      "Score (max over agents) from episode 3: 2.7000000402331352\n",
      "Score (max over agents) from episode 4: 2.600000038743019\n",
      "Score (max over agents) from episode 5: 2.7000000402331352\n"
     ]
    }
   ],
   "source": [
    "from unityagents import UnityEnvironment\n",
    "import numpy as np\n",
    "import torch\n",
    "from maddpg import MADDPG\n",
    "from global_variables import LR_ACTOR, LR_CRITIC, GAMMA, TAU, SEED, BUFFER_SIZE, EPSILON, EPS_DECAY, EPS_MIN, WEIGHT_DECAY\n",
    "\n",
    "env = UnityEnvironment(file_name='Tennis_Windows_x86_64\\Tennis.exe')\n",
    "brain_name = env.brain_names[0]\n",
    "brain = env.brains[brain_name]\n",
    "\n",
    "env_info = env.reset(train_mode=True)[brain_name]\n",
    "num_agents = len(env_info.agents)\n",
    "\n",
    "agent = MADDPG(24, 2, LR_ACTOR, LR_CRITIC, GAMMA, TAU, BUFFER_SIZE, SEED, WEIGHT_DECAY, EPSILON, EPS_DECAY, EPS_MIN)\n",
    "device = torch.device(\"cuda\" if torch.cuda.is_available() else \"cpu\")\n",
    "\n",
    "for idx, agent in enumerate(agent.agents):\n",
    "    agent.actor.load_state_dict(torch.load(f'checkpoint_actor{idx}_model.pth'))\n",
    "    agent.critic.load_state_dict(torch.load(f'checkpoint_critic{idx}_model.pth'))\n",
    "\n",
    "for i in range(1, 6):                                      # play game for 5 episodes\n",
    "    env_info = env.reset(train_mode=False)[brain_name]     # reset the environment    \n",
    "    states = env_info.vector_observations                  # get the current state (for each agent)\n",
    "    scores = np.zeros(num_agents)                          # initialize the score (for each agent)\n",
    "    while True:\n",
    "        actions = agent.act(torch.from_numpy(states).float().to(device))\n",
    "        env_info = env.step(actions)[brain_name]           # send all actions to tne environment\n",
    "        next_states = env_info.vector_observations         # get next state (for each agent)\n",
    "        rewards = env_info.rewards                         # get reward (for each agent)\n",
    "        dones = env_info.local_done                        # see if episode finished\n",
    "        scores += env_info.rewards                         # update the score (for each agent)\n",
    "        states = next_states                               # roll over states to next time step\n",
    "        if np.any(dones):                                  # exit loop if episode finished\n",
    "            break\n",
    "    print('Score (max over agents) from episode {}: {}'.format(i, np.max(scores)))\n",
    "\n",
    "env.close()"
   ]
  },
  {
   "attachments": {},
   "cell_type": "markdown",
   "metadata": {},
   "source": [
    "# Plotted noise used for training"
   ]
  },
  {
   "cell_type": "code",
   "execution_count": 3,
   "metadata": {},
   "outputs": [
    {
     "data": {
      "text/plain": [
       "0.9990793899844618"
      ]
     },
     "execution_count": 3,
     "metadata": {},
     "output_type": "execute_result"
    },
    {
     "data": {
      "image/png": "[encoded data removed]",
      "text/plain": [
       "<Figure size 640x480 with 1 Axes>"
      ]
     },
     "metadata": {},
     "output_type": "display_data"
    }
   ],
   "source": [
    "import random\n",
    "from math import log, exp\n",
    "from global_variables import MU, THETA, SIGMA, EPS_DECAY, EPS_MIN, EPSILON, SEED\n",
    "from maddpg import OUNoise\n",
    "import numpy as np\n",
    "import torch\n",
    "from matplotlib import pyplot as plt\n",
    "\n",
    "noise = OUNoise(1)\n",
    "epsilon = EPSILON\n",
    "ns = []\n",
    "for i in range(5500):\n",
    "    ns.append(epsilon * noise.noise().cpu().data.numpy())\n",
    "    epsilon = max(EPS_MIN, epsilon * EPS_DECAY)\n",
    "\n",
    "plt.plot(np.arange(len(ns)), ns)\n",
    "\n",
    "EPS_DECAY"
   ]
  }
 ],
 "metadata": {
  "kernelspec": {
   "display_name": "Python 3.9.13 ('drl2')",
   "language": "python",
   "name": "python3"
  },
  "language_info": {
   "codemirror_mode": {
    "name": "ipython",
    "version": 3
   },
   "file_extension": ".py",
   "mimetype": "text/x-python",
   "name": "python",
   "nbconvert_exporter": "python",
   "pygments_lexer": "ipython3",
   "version": "3.9.13"
  },
  "vscode": {
   "interpreter": {
    "hash": "45548401a5106f6dbe4ef5f5ca37fcb4ad7dcf7526d1cf0a9ed7cf6c0571d0a5"
   }
  }
 },
 "nbformat": 4,
 "nbformat_minor": 2
}
